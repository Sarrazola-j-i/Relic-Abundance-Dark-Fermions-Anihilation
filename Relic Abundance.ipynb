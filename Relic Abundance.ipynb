{
 "cells": [
  {
   "cell_type": "code",
   "execution_count": 1,
   "id": "5f7395cd",
   "metadata": {},
   "outputs": [
    {
     "name": "stdout",
     "output_type": "stream",
     "text": [
      "Populating the interactive namespace from numpy and matplotlib\n"
     ]
    }
   ],
   "source": [
    "import numpy as np\n",
    "%pylab inline\n",
    "import matplotlib.pyplot as plt"
   ]
  },
  {
   "cell_type": "code",
   "execution_count": 2,
   "id": "66d37ffb",
   "metadata": {},
   "outputs": [],
   "source": [
    "from scipy.special import kn"
   ]
  },
  {
   "cell_type": "code",
   "execution_count": 3,
   "id": "330fb286",
   "metadata": {},
   "outputs": [],
   "source": [
    "from scipy.integrate import quad"
   ]
  },
  {
   "cell_type": "markdown",
   "id": "5aeb96d6",
   "metadata": {},
   "source": [
    "La densidad numero es:\n",
    "\n",
    "$n(x) = g\\left(\\displaystyle\\frac{\\pi m^{2}}{2x}\\right)^{3/2}e^{-x}$"
   ]
  },
  {
   "cell_type": "markdown",
   "id": "bf724958",
   "metadata": {},
   "source": [
    "El promedio termico es\n",
    "\n",
    "$\\langle \\sigma v_{rel}\\rangle = \\displaystyle\\frac{g}{64 \\pi^{2}}\\left(\\displaystyle\\frac{m_{\\psi}}{x}\\right)\\displaystyle\\frac{1}{n^{2}}\\displaystyle\\int_{4m_{\\psi}}^{\\infty}ds\\ \\sqrt{s}2(s-4m_{\\psi})K_{1}\\left(\\frac{\\sqrt{s}}{T}\\right)\\sigma v_{rel}=b\\displaystyle\\int_{4m_{\\psi}}^{\\infty}dsF(s)$"
   ]
  },
  {
   "cell_type": "code",
   "execution_count": 55,
   "id": "a082f449",
   "metadata": {},
   "outputs": [],
   "source": [
    "#se define la funcion a integrar como F(s)\n",
    "def F(s):\n",
    "    return (s -4)*kn(1,(s)**(1/2.)*10)*(5-4*0.6)**(3/2.)*(s-2*0.6)**(-2)*(s)**(-1/2.)"
   ]
  },
  {
   "cell_type": "code",
   "execution_count": 56,
   "id": "c1312526",
   "metadata": {},
   "outputs": [],
   "source": [
    "#Se integra la funcion F(s); donde se define el resultado como SigmaVV\n",
    "SigmaVV = quad(F,4,inf)"
   ]
  },
  {
   "cell_type": "code",
   "execution_count": 57,
   "id": "c6036942",
   "metadata": {},
   "outputs": [
    {
     "data": {
      "text/plain": [
       "(1.5869542336001346e-11, 4.0569869281100034e-13)"
      ]
     },
     "execution_count": 57,
     "metadata": {},
     "output_type": "execute_result"
    }
   ],
   "source": [
    "SigmaVV# El resultado de la inegral es el primer valor, es decir, SigmaVV[0] "
   ]
  },
  {
   "cell_type": "code",
   "execution_count": 58,
   "id": "c5dc3ae6",
   "metadata": {},
   "outputs": [],
   "source": [
    "#Se define el coeficiente b que antecede la integral\n",
    "def b(gD, mD, x,nD):\n",
    "    return gD**6*mD/(128*np.pi**5*nD**2)"
   ]
  },
  {
   "cell_type": "code",
   "execution_count": 59,
   "id": "5ee1958c",
   "metadata": {},
   "outputs": [],
   "source": [
    "#La densida numero\n",
    "def nDD(geff,m,T):\n",
    "    return geff*(m*T/(2*np.pi))**(3/2.)*np.exp(-m/T)"
   ]
  },
  {
   "cell_type": "code",
   "execution_count": 60,
   "id": "d801376d",
   "metadata": {},
   "outputs": [],
   "source": [
    "#Resultado de la densidad numero\n",
    "n1 = nDD(106.5,1000,100)"
   ]
  },
  {
   "cell_type": "code",
   "execution_count": 61,
   "id": "9edaf0e1",
   "metadata": {},
   "outputs": [],
   "source": [
    "#Resultado del coeficiente, y la integral es el primer valor\n",
    "b1=b(90,1000,10,n1)\n",
    "SV1 = SigmaVV[0]"
   ]
  },
  {
   "cell_type": "code",
   "execution_count": 62,
   "id": "28f07401",
   "metadata": {},
   "outputs": [
    {
     "data": {
      "text/plain": [
       "2.591130992320062e-09"
      ]
     },
     "execution_count": 62,
     "metadata": {},
     "output_type": "execute_result"
    }
   ],
   "source": [
    "#El promedio termico es SigmaV_rel = b*Sv\n",
    "Sv = b1*SV1\n",
    "Sv"
   ]
  },
  {
   "cell_type": "code",
   "execution_count": 63,
   "id": "45f6888f",
   "metadata": {},
   "outputs": [
    {
     "data": {
      "text/plain": [
       "0.09648296467487873"
      ]
     },
     "execution_count": 63,
     "metadata": {},
     "output_type": "execute_result"
    }
   ],
   "source": [
    "#la abundacia de reliquias es aproximadamente 0.11:\n",
    "2.5e-10/Sv"
   ]
  },
  {
   "cell_type": "code",
   "execution_count": 51,
   "id": "a2b1eaac",
   "metadata": {},
   "outputs": [
    {
     "data": {
      "text/plain": [
       "4"
      ]
     },
     "execution_count": 51,
     "metadata": {},
     "output_type": "execute_result"
    }
   ],
   "source": [
    "2+2"
   ]
  },
  {
   "cell_type": "code",
   "execution_count": null,
   "id": "d9e440cc",
   "metadata": {},
   "outputs": [],
   "source": []
  }
 ],
 "metadata": {
  "kernelspec": {
   "display_name": "Python 3 (ipykernel)",
   "language": "python",
   "name": "python3"
  },
  "language_info": {
   "codemirror_mode": {
    "name": "ipython",
    "version": 3
   },
   "file_extension": ".py",
   "mimetype": "text/x-python",
   "name": "python",
   "nbconvert_exporter": "python",
   "pygments_lexer": "ipython3",
   "version": "3.9.7"
  }
 },
 "nbformat": 4,
 "nbformat_minor": 5
}
