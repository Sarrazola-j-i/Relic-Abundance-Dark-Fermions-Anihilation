{
 "cells": [
  {
   "cell_type": "markdown",
   "metadata": {
    "colab_type": "text",
    "id": "view-in-github"
   },
   "source": [
    "<a href=\"https://colab.research.google.com/github/restrepo/WIMP/blob/master/WIMP.ipynb\" target=\"_parent\"><img src=\"https://colab.research.google.com/assets/colab-badge.svg\" alt=\"Open In Colab\"/></a>"
   ]
  },
  {
   "cell_type": "markdown",
   "metadata": {
    "colab_type": "text",
    "id": "qFOeVPf9k7aL"
   },
   "source": [
    "# Dark Matter Boltzmann equation\n",
    "This program reproduse a thermal evolution of relic abundance of a dark fermions anihilation. Based on Chapter 5th, Kolb Turner (Early Universe)"
   ]
  },
  {
   "cell_type": "code",
   "execution_count": 1,
   "metadata": {
    "colab": {
     "base_uri": "https://localhost:8080/",
     "height": 35
    },
    "colab_type": "code",
    "id": "MfyBj2Vqk7aS",
    "outputId": "aa773d2a-5642-42e1-c902-08ce97bab9b1"
   },
   "outputs": [
    {
     "name": "stdout",
     "output_type": "stream",
     "text": [
      "Populating the interactive namespace from numpy and matplotlib\n"
     ]
    }
   ],
   "source": [
    "%pylab inline  \n",
    "import numpy as np\n",
    "from numpy import arange\n",
    "from scipy.integrate import odeint"
   ]
  },
  {
   "cell_type": "code",
   "execution_count": 2,
   "metadata": {
    "colab": {},
    "colab_type": "code",
    "id": "kfDBXgSBk7aj"
   },
   "outputs": [],
   "source": [
    "# parameters\n",
    "\n",
    "Ms = 1000                                #GeV Singlet Mass\n",
    "Mp = 1.22e19                            #GeV Planck Mass\n",
    "g = 100                                 # Degrees of freedom\n",
    "gs = 106.75                             # Entropy degrees of freedom\n",
    "H0 = 2.133*(0.7)*1e-42                   # GeV Hubble parameter (unused)"
   ]
  },
  {
   "cell_type": "markdown",
   "metadata": {
    "colab_type": "text",
    "id": "6eWN3WOvk7bP"
   },
   "source": [
    "## Boltzmann equation"
   ]
  },
  {
   "cell_type": "markdown",
   "metadata": {
    "colab_type": "text",
    "id": "RcCQmqVMk7bS"
   },
   "source": [
    "The general expresion for the thermal evolution of DM is as follows (see eq (5.26) Kolb and Turner ):\n",
    "\n",
    "$$ \\frac{x}{Y_{EQ}(x)}\\frac{dY}{dx} =-\\frac{n_{EQ}(x)\\langle \\sigma v \\rangle}{H(x)}\\left[\\left(\\frac{Y}{Y_{EQ}(x)}\\right)^{2} - 1\\right]\\,, $$\n",
    "\n",
    "donde\n",
    "$$n_{EQ} (x)= 2\\left( \\frac{M^{2}}{2\\pi x}\\right)^{3/2} e^{-x}$$ \n",
    "and []see ( eq 5.16) Kolb & Turner]\n",
    "$$H(x) = 1.67 x^{-2} g_{*}^{1/2}\\frac{M^{2}}{Mp}$$    \n",
    "\n",
    "The equilibrium distribution of this particles is consider for the non-relativistic case, as follows (see eq 5.25):\n",
    "\n",
    "$$Y_{EQ}(x) = \\frac{45}{2\\pi^{4}}\\frac{g}{g_{*s}} x^{3/2} e^{-x} = 0.145\\frac{g}{g_{*s}} x^{3/2} e^{-x}\\,, $$\n",
    "\n",
    "where $x = M / T$ and $M= 100$ GeV is the singlet mass taken as constant."
   ]
  },
  {
   "cell_type": "markdown",
   "metadata": {
    "colab_type": "text",
    "id": "0Ox2eXrZk7bX"
   },
   "source": [
    "## Solution"
   ]
  },
  {
   "cell_type": "markdown",
   "metadata": {
    "colab_type": "text",
    "id": "8r1qLtSXk7bc"
   },
   "source": [
    "The initial condition to solve the evolution equation is $Y(x_i) = Y_{EQ}$, where $x_i=0.01$, such that $T_i=M/x_i=10^4\\ $GeV."
   ]
  },
  {
   "cell_type": "code",
   "execution_count": 3,
   "metadata": {
    "colab": {},
    "colab_type": "code",
    "id": "966dRlBQvtuH"
   },
   "outputs": [],
   "source": [
    "def Yeq(x):\n",
    "    return 0.145*(g/gs)*(x)**(3/2)*np.exp(-x)\n",
    "\n",
    "xi=1E-4\n",
    "xe=1000\n",
    "npts=3000\n",
    "# For several order of magnitude: \n",
    "x = np.linspace(0.01, 1000, 1000)"
   ]
  },
  {
   "cell_type": "code",
   "execution_count": 13,
   "metadata": {
    "colab": {},
    "colab_type": "code",
    "id": "CCa0bZIfk7bf"
   },
   "outputs": [],
   "source": [
    "sigmav=[2.284494692252474e-09,1.7475568196239999e-06]\n",
    "def eqd(yl,x,Ms = 100,σv = sigmav[0]):\n",
    "    '''\n",
    "    Ms  [GeV]     : Singlet Mass\n",
    "    σv: [1/GeV^2] : ⟨σv⟩\n",
    "    '''\n",
    "    \n",
    "    Mp = 1.22e19                            \n",
    "    g = 100                                 # Degrees of freedom\n",
    "    gs = 106.75                             # Entropy degrees of freedom\n",
    "    \n",
    "    H = 1.67*g**(1/2)*Ms**2/Mp\n",
    "    \n",
    "    dyl = -2*(((Ms**2/(2*np.pi*x))**(3/2)*np.exp(-x))*σv/(x**(-2)*H*x))*(yl**2 - (0.145*(g/gs)*(x)**(3/2)*np.exp(-x))**2)\n",
    "    \n",
    "    return dyl"
   ]
  },
  {
   "cell_type": "code",
   "execution_count": 14,
   "metadata": {
    "colab": {
     "base_uri": "https://localhost:8080/",
     "height": 35
    },
    "colab_type": "code",
    "id": "55PQ1h0lk7bp",
    "outputId": "7d8da985-8901-4e21-f5b5-97c494c7cbb4"
   },
   "outputs": [
    {
     "data": {
      "text/plain": [
       "19272601.78191334"
      ]
     },
     "execution_count": 14,
     "metadata": {},
     "output_type": "execute_result"
    }
   ],
   "source": [
    "#Test the function\n",
    "eqd(0.005,1)"
   ]
  },
  {
   "cell_type": "code",
   "execution_count": 15,
   "metadata": {
    "colab": {},
    "colab_type": "code",
    "id": "Ko82KOzZ-jMJ"
   },
   "outputs": [],
   "source": [
    "#Initial conditions\n",
    "y0 = Yeq(x[0])\n",
    "yl =  odeint( eqd, y0, x,args=(Ms,sigmav[0]) )\n",
    "yl1 = odeint( eqd, y0, x,args=(Ms,sigmav[1]) )"
   ]
  },
  {
   "cell_type": "markdown",
   "metadata": {
    "colab_type": "text",
    "id": "bq9orPWqk7b_"
   },
   "source": [
    "The following plot can be find in the reference book (Figure 5.1)"
   ]
  },
  {
   "cell_type": "code",
   "execution_count": 25,
   "metadata": {
    "colab": {
     "base_uri": "https://localhost:8080/",
     "height": 309
    },
    "colab_type": "code",
    "id": "HlrFpyGwk7cC",
    "outputId": "291f4519-ee2d-4f95-ba2a-818647d12ec1"
   },
   "outputs": [
    {
     "data": {
      "image/png": "[encoded data removed]",
      "text/plain": [
       "<Figure size 432x288 with 1 Axes>"
      ]
     },
     "metadata": {
      "needs_background": "light"
     },
     "output_type": "display_data"
    }
   ],
   "source": [
    "plt.loglog(x,yl, label = r'$\\langle σ v\\rangle = 2.28 \\times 10^{-9} {\\rm GeV}^{-2}$')\n",
    "#plt.loglog(x,yl1, label = r'$\\langle σ v\\rangle = 1.74 \\times 10^{-6} {\\rm GeV}^{-2}$')\n",
    "plt.loglog(x,Yeq(x), '--', label = '$Y_{EQ}$')\n",
    "plt.ylim(ymax=0.1,ymin=1e-20)\n",
    "plt.xlim(xmax=1e3,xmin=1)\n",
    "plt.xlabel('$x = M/T$', size= 15)\n",
    "plt.ylabel('$Y$', size= 15)\n",
    "#plt.title('$M = 1$ TeV', size= 15)\n",
    "plt.legend(loc='best',fontsize=10)\n",
    "plt.grid(True)"
   ]
  },
  {
   "cell_type": "markdown",
   "metadata": {
    "colab_type": "text",
    "id": "Rbeje9bVk7au"
   },
   "source": [
    "## Equilibrium distribution"
   ]
  },
  {
   "cell_type": "markdown",
   "metadata": {
    "colab_type": "text",
    "id": "fxQO08Fxk7ay"
   },
   "source": [
    "Here we consider thermal production of dark matter particles.\n",
    "The equilibrium distribution of this particles is consider for the non-relativistic case, as follows (see eq 5.25):\n",
    "\n",
    "$$Y_{EQ}(x) = \\frac{45}{2\\pi^{4}}\\frac{g}{g_{*s}} x^{3/2} e^{-x} = 0.145\\frac{g}{g_{*s}} x^{3/2} e^{-x}\\,, $$\n",
    "\n",
    "where $x = M / T$ and $M= 100$ GeV is the singlet mass taken as constant."
   ]
  },
  {
   "cell_type": "code",
   "execution_count": 18,
   "metadata": {
    "colab": {},
    "colab_type": "code",
    "id": "HNNmxK9rDwZZ"
   },
   "outputs": [],
   "source": [
    "x=np.logspace( np.log10( xi) , np.log10( xe) ,npts  )"
   ]
  },
  {
   "cell_type": "code",
   "execution_count": 19,
   "metadata": {
    "colab": {},
    "colab_type": "code",
    "id": "Q-8mL9WWk7bB"
   },
   "outputs": [
    {
     "data": {
      "image/png": "[encoded data removed]",
      "text/plain": [
       "<Figure size 432x288 with 1 Axes>"
      ]
     },
     "metadata": {
      "needs_background": "light"
     },
     "output_type": "display_data"
    }
   ],
   "source": [
    "plt.loglog(x, Yeq(x))\n",
    "plt.ylim(ymax=0.1,ymin=1e-20)\n",
    "plt.xlim(xmax=1e3,xmin=1)\n",
    "plt.xlabel('$x = M/T$', size= 15)\n",
    "plt.ylabel('$Y_{EQ}$', size= 15)\n",
    "plt.grid(True)"
   ]
  },
  {
   "cell_type": "code",
   "execution_count": null,
   "metadata": {
    "colab": {},
    "colab_type": "code",
    "id": "GI6XlP08wLyq"
   },
   "outputs": [],
   "source": []
  },
  {
   "cell_type": "code",
   "execution_count": 20,
   "metadata": {},
   "outputs": [],
   "source": [
    "denr = 2.5e-10/sigmav[0]"
   ]
  },
  {
   "cell_type": "code",
   "execution_count": 21,
   "metadata": {},
   "outputs": [
    {
     "data": {
      "text/plain": [
       "0.10943339060836432"
      ]
     },
     "execution_count": 21,
     "metadata": {},
     "output_type": "execute_result"
    }
   ],
   "source": [
    "denr"
   ]
  },
  {
   "cell_type": "code",
   "execution_count": null,
   "metadata": {},
   "outputs": [],
   "source": []
  },
  {
   "cell_type": "code",
   "execution_count": null,
   "metadata": {},
   "outputs": [],
   "source": []
  }
 ],
 "metadata": {
  "colab": {
   "collapsed_sections": [],
   "include_colab_link": true,
   "name": "WIMP.ipynb",
   "provenance": [],
   "version": "0.3.2"
  },
  "kernelspec": {
   "display_name": "Python 3 (ipykernel)",
   "language": "python",
   "name": "python3"
  },
  "language_info": {
   "codemirror_mode": {
    "name": "ipython",
    "version": 3
   },
   "file_extension": ".py",
   "mimetype": "text/x-python",
   "name": "python",
   "nbconvert_exporter": "python",
   "pygments_lexer": "ipython3",
   "version": "3.9.7"
  }
 },
 "nbformat": 4,
 "nbformat_minor": 1
}
